{
  "nbformat": 4,
  "nbformat_minor": 0,
  "metadata": {
    "colab": {
      "provenance": [],
      "authorship_tag": "ABX9TyPBx23QPyC00CA+/6P4VHFt",
      "include_colab_link": true
    },
    "kernelspec": {
      "name": "python3",
      "display_name": "Python 3"
    },
    "language_info": {
      "name": "python"
    }
  },
  "cells": [
    {
      "cell_type": "markdown",
      "metadata": {
        "id": "view-in-github",
        "colab_type": "text"
      },
      "source": [
        "<a href=\"https://colab.research.google.com/github/themaxempire23/access_elctronics_detector/blob/main/access_e_detector.ipynb\" target=\"_parent\"><img src=\"https://colab.research.google.com/assets/colab-badge.svg\" alt=\"Open In Colab\"/></a>"
      ]
    },
    {
      "cell_type": "code",
      "execution_count": 1,
      "metadata": {
        "colab": {
          "base_uri": "https://localhost:8080/"
        },
        "id": "EvzXhswJ8PSL",
        "outputId": "11ad7813-8ed1-4b6c-ba28-f5ba662fd36e"
      },
      "outputs": [
        {
          "output_type": "stream",
          "name": "stdout",
          "text": [
            "Collecting bing-image-downloader\n",
            "  Downloading bing_image_downloader-1.1.2-py3-none-any.whl.metadata (2.8 kB)\n",
            "Downloading bing_image_downloader-1.1.2-py3-none-any.whl (5.9 kB)\n",
            "Installing collected packages: bing-image-downloader\n",
            "Successfully installed bing-image-downloader-1.1.2\n"
          ]
        }
      ],
      "source": [
        "!pip install bing-image-downloader"
      ]
    },
    {
      "cell_type": "code",
      "source": [
        "!mkdir images"
      ],
      "metadata": {
        "id": "QdGyMjz1DPR7"
      },
      "execution_count": 2,
      "outputs": []
    },
    {
      "cell_type": "markdown",
      "source": [
        "# Downloading images for phones in good condition"
      ],
      "metadata": {
        "id": "urY69docSncd"
      }
    },
    {
      "cell_type": "code",
      "source": [
        "from bing_image_downloader import downloader\n",
        "downloader.download(\"Excellent Refurbished smart Phone\", limit =15, output_dir='images/good_condition')"
      ],
      "metadata": {
        "colab": {
          "base_uri": "https://localhost:8080/"
        },
        "id": "YySLgNE3Df-g",
        "outputId": "687cc240-78cc-4b58-f770-216a3c90f1bf"
      },
      "execution_count": 3,
      "outputs": [
        {
          "output_type": "stream",
          "name": "stdout",
          "text": [
            "[%] Downloading Images to /content/images/good_condition/Excellent Refurbished smart Phone\n",
            "\n",
            "\n",
            "[!!]Indexing page: 1\n",
            "\n",
            "[%] Indexed 15 Images on Page 1.\n",
            "\n",
            "===============================================\n",
            "\n",
            "[%] Downloading Image #1 from https://static.wixstatic.com/media/41431d_bafad515959243de8e8a2273aacf6392~mv2.jpg/v1/fill/w_1000,h_523,al_c,q_85,usm_0.66_1.00_0.01/41431d_bafad515959243de8e8a2273aacf6392~mv2.jpg\n",
            "[%] File Downloaded !\n",
            "\n",
            "[%] Downloading Image #2 from https://sc02.alicdn.com/kf/H660adffa89ec41cc818120ebc49e1fd6X/240346969/H660adffa89ec41cc818120ebc49e1fd6X.jpg\n",
            "[%] File Downloaded !\n",
            "\n",
            "[%] Downloading Image #3 from https://www.dhresource.com/0x0/f2/albu/g8/M00/20/BB/rBVaVFz8IiSAH7omAANbYb1uagA341.jpg/refurbished-smartphone-cheap-samsung-b2710.jpg\n",
            "[%] File Downloaded !\n",
            "\n",
            "[%] Downloading Image #4 from https://www.smartphonesplus.com/wp-content/uploads/2022/12/fabian-albert-xaKEDwvfuGI-unsplash-1365x2048.jpg\n",
            "[%] File Downloaded !\n",
            "\n",
            "[%] Downloading Image #5 from https://cdn.thelabrepair.com/wp-content/uploads/refurbished-phones-with-card-1200x791.jpg\n",
            "[%] File Downloaded !\n",
            "\n",
            "[%] Downloading Image #6 from https://cdn.thelabrepair.com/wp-content/uploads/refurbished-phones.jpg\n",
            "[%] File Downloaded !\n",
            "\n",
            "[%] Downloading Image #7 from https://cdn.mos.cms.futurecdn.net/odKqZhchBGfEXDgYH2NoHE-1200-80.jpg\n",
            "[%] File Downloaded !\n",
            "\n",
            "[%] Downloading Image #8 from https://www.noypigeeks.com/wp-content/uploads/2022/09/Refurbished-Phones-NoypiGeeks.jpg\n",
            "[%] File Downloaded !\n",
            "\n",
            "[%] Downloading Image #9 from https://i.kinja-img.com/gawker-media/image/upload/c_fill,f_auto,fl_progressive,g_center,h_675,pg_1,q_80,w_1200/a377e3e5a9fb78d6f2970df923578773.jpg\n",
            "[%] File Downloaded !\n",
            "\n",
            "[%] Downloading Image #10 from https://droidafrica.net/wp-content/uploads/2023/02/refurbished-phones-what-are-they-and-should-you-buy-one-4115211.jpg\n",
            "[%] File Downloaded !\n",
            "\n",
            "[%] Downloading Image #11 from https://cdn.mos.cms.futurecdn.net/PgSR4o4LkSutinUueNTpGQ.jpg\n",
            "[%] File Downloaded !\n",
            "\n",
            "[%] Downloading Image #12 from https://cdn.mos.cms.futurecdn.net/zASrSfqBkRpC5BN44hVpbg-1200-80.jpg\n",
            "[%] File Downloaded !\n",
            "\n",
            "[%] Downloading Image #13 from https://cdn.mos.cms.futurecdn.net/cF5kqmLJ8G3QPRW7NCRUcm.jpg\n",
            "[Error]Invalid image, not saving https://cdn.mos.cms.futurecdn.net/cF5kqmLJ8G3QPRW7NCRUcm.jpg\n",
            "\n",
            "[!] Issue getting: https://cdn.mos.cms.futurecdn.net/cF5kqmLJ8G3QPRW7NCRUcm.jpg\n",
            "[!] Error:: Invalid image, not saving https://cdn.mos.cms.futurecdn.net/cF5kqmLJ8G3QPRW7NCRUcm.jpg\n",
            "\n",
            "[%] Downloading Image #13 from https://www.androidcentral.com/sites/androidcentral.com/files/styles/large/public/article_images/2017/05/pile-of-phones-mid-2017-2.jpg?itok=hn5voR6J\n",
            "[%] File Downloaded !\n",
            "\n",
            "[%] Downloading Image #14 from https://www.androidcentral.com/sites/androidcentral.com/files/styles/large/public/article_images/2018/07/pile-of-phones-2018.jpg?itok=-GuggbKh\n",
            "[%] File Downloaded !\n",
            "\n",
            "\n",
            "\n",
            "[!!]Indexing page: 2\n",
            "\n",
            "[%] Indexed 35 Images on Page 2.\n",
            "\n",
            "===============================================\n",
            "\n",
            "[%] Downloading Image #15 from http://sa.revibe.me/cdn/shop/articles/Untitled_design_cc914a20-4b38-49e9-92a1-e08082cfeef3.png?v=1692095215\n",
            "[%] File Downloaded !\n",
            "\n",
            "\n",
            "\n",
            "[%] Done. Downloaded 15 images.\n"
          ]
        }
      ]
    },
    {
      "cell_type": "markdown",
      "source": [
        "# Downloading images for damaged phones"
      ],
      "metadata": {
        "id": "GLbzX6TQS3Uh"
      }
    },
    {
      "cell_type": "code",
      "source": [
        "downloader.download(\"damaged smartphone broken screen\", limit=15, output_dir='images/damaged')"
      ],
      "metadata": {
        "colab": {
          "base_uri": "https://localhost:8080/"
        },
        "id": "0Sg62qNySbJE",
        "outputId": "ee2f699a-43e4-4c3e-974a-536af871f904"
      },
      "execution_count": 4,
      "outputs": [
        {
          "output_type": "stream",
          "name": "stdout",
          "text": [
            "[%] Downloading Images to /content/images/damaged/damaged smartphone broken screen\n",
            "\n",
            "\n",
            "[!!]Indexing page: 1\n",
            "\n",
            "[%] Indexed 15 Images on Page 1.\n",
            "\n",
            "===============================================\n",
            "\n",
            "[%] Downloading Image #1 from https://thumbs.dreamstime.com/z/modern-touch-screen-smartphone-broken-screen-isolated-white-background-repairing-damaged-phone-broken-screen-106858453.jpg\n",
            "[%] File Downloaded !\n",
            "\n",
            "[%] Downloading Image #2 from https://image.shutterstock.com/shutterstock/photos/1312381226/display_1500/stock-photo-smashed-screen-vandalised-broken-glass-close-up-tablet-phone-1312381226.jpg\n",
            "[%] File Downloaded !\n",
            "\n",
            "[%] Downloading Image #3 from https://image.shutterstock.com/z/stock-photo-screen-cracked-smartphone-mobile-phone-with-damaged-touchscreen-repairing-smartphone-replacing-1924379342.jpg\n",
            "[%] File Downloaded !\n",
            "\n",
            "[%] Downloading Image #4 from https://techcastle.com/media/broken-screen.jpg\n",
            "[%] File Downloaded !\n",
            "\n",
            "[%] Downloading Image #5 from https://image.shutterstock.com/z/stock-photo-broken-screen-smartphone-220744159.jpg\n",
            "[%] File Downloaded !\n",
            "\n",
            "[%] Downloading Image #6 from https://i5.walmartimages.com/asr/597e4bf6-10f2-44e4-83e7-f4473532f584_1.33034df6160aa8787c08fe95041309e0.jpeg?odnWidth=1000&amp;odnHeight=1000&amp;odnBg=ffffff\n",
            "[%] File Downloaded !\n",
            "\n",
            "[%] Downloading Image #7 from https://as2.ftcdn.net/v2/jpg/04/91/29/83/1000_F_491298386_6s815Kd747T2p0yJ9O9o5qYhFD1MZTC6.jpg\n",
            "[%] File Downloaded !\n",
            "\n",
            "[%] Downloading Image #8 from https://thumbs.dreamstime.com/b/broken-smartphone-display-touch-screen-repair-removes-broken-phone-screen-cracked-screen-broken-smartphone-display-touch-screen-298653564.jpg\n",
            "[%] File Downloaded !\n",
            "\n",
            "[%] Downloading Image #9 from https://img.freepik.com/premium-photo/broken-smartphone-with-broken-screen_670382-6617.jpg\n",
            "[%] File Downloaded !\n",
            "\n",
            "[%] Downloading Image #10 from https://thumbs.dreamstime.com/b/broken-mobile-phone-screen-repair-smartphone-screen-broken-mobile-phone-screen-repair-smartphone-screen-close-up-262209093.jpg\n",
            "[%] File Downloaded !\n",
            "\n",
            "[%] Downloading Image #11 from https://thumbs.dreamstime.com/z/hand-modern-touch-screen-smart-phone-broken-screen-isolated-white-background-smartphone-broken-screen-120297937.jpg\n",
            "[%] File Downloaded !\n",
            "\n",
            "[%] Downloading Image #12 from https://www.creativefabrica.com/wp-content/uploads/2024/01/28/Broken-display-screen-smartphone-stack-Graphics-89608761-1.png\n",
            "[!] Issue getting: https://www.creativefabrica.com/wp-content/uploads/2024/01/28/Broken-display-screen-smartphone-stack-Graphics-89608761-1.png\n",
            "[!] Error:: HTTP Error 403: Forbidden\n",
            "[%] Downloading Image #12 from https://as1.ftcdn.net/v2/jpg/03/12/23/10/1000_F_312231058_w0Wxl4OwytcgPaD40K2dbZ6npFCUFRD1.jpg\n",
            "[%] File Downloaded !\n",
            "\n",
            "[%] Downloading Image #13 from https://img.freepik.com/premium-photo/broken-smartphone-screen_553012-61546.jpg\n",
            "[%] File Downloaded !\n",
            "\n",
            "[%] Downloading Image #14 from https://static.vecteezy.com/system/resources/previews/024/047/789/non_2x/smartphone-with-broken-screen-on-wooden-photo.jpg\n",
            "[!] Issue getting: https://static.vecteezy.com/system/resources/previews/024/047/789/non_2x/smartphone-with-broken-screen-on-wooden-photo.jpg\n",
            "[!] Error:: HTTP Error 403: Forbidden\n",
            "\n",
            "\n",
            "[!!]Indexing page: 2\n",
            "\n",
            "[%] Indexed 35 Images on Page 2.\n",
            "\n",
            "===============================================\n",
            "\n",
            "[%] Downloading Image #14 from https://img.freepik.com/premium-photo/broken-smartphone-screen_553012-61676.jpg\n",
            "[%] File Downloaded !\n",
            "\n",
            "[%] Downloading Image #15 from https://img.freepik.com/premium-photo/broken-smartphone-screen_553012-61821.jpg\n",
            "[%] File Downloaded !\n",
            "\n",
            "\n",
            "\n",
            "[%] Done. Downloaded 15 images.\n"
          ]
        }
      ]
    }
  ]
}